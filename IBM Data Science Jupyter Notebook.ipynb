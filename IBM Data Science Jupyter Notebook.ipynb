{
 "cells": [
  {
   "cell_type": "markdown",
   "source": [
    "# My Jupyter Notebook on IBM Watson Studio"
   ],
   "metadata": {
    "collapsed": false
   }
  },
  {
   "cell_type": "markdown",
   "source": [
    "**Dami Vera-Cruz**\n",
    "Data Scientist"
   ],
   "metadata": {
    "collapsed": false
   }
  },
  {
   "cell_type": "markdown",
   "source": [
    "_I am interested in Data Science because of the opportunities that exist to create solutions to complex problems_"
   ],
   "metadata": {
    "collapsed": false
   }
  },
  {
   "cell_type": "markdown",
   "source": [
    "### The code below is defining variables and then using those variables to run simple calculations"
   ],
   "metadata": {
    "collapsed": false
   }
  },
  {
   "cell_type": "code",
   "execution_count": 3,
   "outputs": [
    {
     "name": "stdout",
     "output_type": "stream",
     "text": [
      "The store made a total of $200\n"
     ]
    }
   ],
   "source": [
    "cost_of_icecream = 10\n",
    "number_of_icecream_sold = 20\n",
    "\n",
    "total = cost_of_icecream * number_of_icecream_sold\n",
    "\n",
    "print(\"The store made a total of ${}\".format(total))"
   ],
   "metadata": {
    "collapsed": false
   }
  },
  {
   "cell_type": "markdown",
   "source": [
    "From the above, we had:\n",
    "\n",
    "* Variables\n",
    "* Numbers\n",
    "* Function\n",
    "\n",
    "More about Python can be found at [Python Website](https://docs.python.org/3/)\n",
    "\n",
    "The Python logo is below:\n",
    "![](https://docs.python.org/3/_static/py.svg)"
   ],
   "metadata": {
    "collapsed": false
   }
  },
  {
   "cell_type": "code",
   "execution_count": null,
   "outputs": [],
   "source": [],
   "metadata": {
    "collapsed": false
   }
  }
 ],
 "metadata": {
  "kernelspec": {
   "display_name": "Python 3",
   "language": "python",
   "name": "python3"
  },
  "language_info": {
   "codemirror_mode": {
    "name": "ipython",
    "version": 2
   },
   "file_extension": ".py",
   "mimetype": "text/x-python",
   "name": "python",
   "nbconvert_exporter": "python",
   "pygments_lexer": "ipython2",
   "version": "2.7.6"
  }
 },
 "nbformat": 4,
 "nbformat_minor": 0
}
